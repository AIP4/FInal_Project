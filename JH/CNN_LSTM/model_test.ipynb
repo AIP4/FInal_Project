{
 "cells": [
  {
   "cell_type": "code",
   "execution_count": 1,
   "metadata": {},
   "outputs": [
    {
     "name": "stderr",
     "output_type": "stream",
     "text": [
      "/home/sangwon/nlplab_leaderboard2/Junho/JH/CNN_LSTM/utils.py:119: FutureWarning: DataFrame.applymap has been deprecated. Use DataFrame.map instead.\n",
      "  df[pm_columns] = df[pm_columns].applymap(lambda x: np.nan if x <= 0 else x)\n"
     ]
    },
    {
     "data": {
      "text/plain": [
       "<dataset.PM10Dataset at 0x7f5d16c015e0>"
      ]
     },
     "execution_count": 1,
     "metadata": {},
     "output_type": "execute_result"
    }
   ],
   "source": [
    "from model import PM10CNN\n",
    "from dataset import PM10Dataset\n",
    "from utils import imputed_china_pm_data\n",
    "\n",
    "df = imputed_china_pm_data()\n",
    "dataset = PM10Dataset(df)\n",
    "\n",
    "dataset"
   ]
  },
  {
   "cell_type": "code",
   "execution_count": 2,
   "metadata": {},
   "outputs": [
    {
     "name": "stdout",
     "output_type": "stream",
     "text": [
      "torch.Size([56, 4])\n",
      "tensor([[195.0000,  54.0000,  14.0000,  49.0000],\n",
      "        [131.0000,  73.0000,   7.0000,  94.0000],\n",
      "        [151.0000,  93.0000,  11.0000,  71.0000],\n",
      "        [171.0000, 104.0000,  73.0000, 120.0000],\n",
      "        [129.5000, 118.0000,  11.0000,  30.0000],\n",
      "        [ 88.0000,  84.0000,  17.0000,  43.0000],\n",
      "        [178.0000,  65.0000,  49.0000,  47.0000],\n",
      "        [113.0000,  38.0000,  29.0000,  33.0000],\n",
      "        [131.0000,  27.0000,  46.0000,  25.5000],\n",
      "        [127.0000,  29.0000,  26.0000,  18.0000],\n",
      "        [146.0000,  27.0000,  23.0000,  40.0000],\n",
      "        [141.0000,  81.0000,  44.0000,  32.0000],\n",
      "        [ 40.0000,  61.0000,  29.0000,  63.0000],\n",
      "        [ 40.0000, 151.0000,  30.0000,  50.0000],\n",
      "        [ 42.0000,  69.0000,  31.0000,  18.0000],\n",
      "        [ 39.0000,  52.0000,  18.0000,  64.0000],\n",
      "        [ 19.0000,  26.0000,  12.0000,  53.0000],\n",
      "        [ 38.0000,  34.0000,  10.0000,  37.0000],\n",
      "        [ 50.0000,  47.0000,  22.0000,  41.0000],\n",
      "        [106.0000,  53.0000,  24.0000,  32.0000],\n",
      "        [ 67.0000,  41.0000,  20.0000,  26.0000],\n",
      "        [ 75.0000,  42.0000,  34.0000,  19.0000],\n",
      "        [ 65.0000,  35.0000,  24.0000,  11.0000],\n",
      "        [ 66.0000,  17.0000,  20.0000,  23.0000],\n",
      "        [ 55.0000,  26.0000,  11.0000,  16.0000],\n",
      "        [ 50.0000,  28.0000,  13.0000,  34.0000],\n",
      "        [ 72.0000,  33.0000,  26.0000,  45.0000],\n",
      "        [ 36.0000,  55.0000,   7.0000,  48.0000],\n",
      "        [ 41.0000,  54.0000,  14.0000,  29.0000],\n",
      "        [ 55.0000,  57.0000,  70.0000,  22.0000],\n",
      "        [ 35.0000,  62.0000,  57.0000,  25.0000],\n",
      "        [ 37.4000,  55.0000,  40.0000,  13.0000],\n",
      "        [ 39.8000,  23.0000,  19.0000,   7.0000],\n",
      "        [ 42.2000,  20.0000,  27.0000,  41.0000],\n",
      "        [ 44.6000,  34.0000,  71.0000,  28.0000],\n",
      "        [ 47.0000,  42.0000,  60.0000,  19.0000],\n",
      "        [ 48.0000,  68.0000,  40.0000,  39.0000],\n",
      "        [ 58.0000,  85.0000,  27.0000,  27.0000],\n",
      "        [ 47.0000,  67.0000,  25.0000,  19.0000],\n",
      "        [ 68.0000,  71.0000,  19.0000,  42.0000],\n",
      "        [ 53.0000,  90.0000,  11.0000,  29.0000],\n",
      "        [ 59.0000, 126.0000,   8.0000,  45.0000],\n",
      "        [ 66.0000, 157.0000, 113.0000,  25.0000],\n",
      "        [ 70.0000, 164.0000,  31.0000,  33.5000],\n",
      "        [ 64.0000, 100.0000,  25.0000,  42.0000],\n",
      "        [ 15.0000,  57.0000,  80.0000,  46.0000],\n",
      "        [ 22.0000,  50.0000, 286.0000,  23.0000],\n",
      "        [ 41.0000,  45.0000,  72.0000,  18.0000],\n",
      "        [ 52.0000, 143.0000,  61.0000,  17.0000],\n",
      "        [ 22.0000,  90.0000,  48.0000,  19.0000],\n",
      "        [ 39.0000,  69.0000, 127.0000,   8.0000],\n",
      "        [ 62.0000, 126.0000,  59.0000,  33.0000],\n",
      "        [ 45.0000,  69.0000,  21.0000,  33.0000],\n",
      "        [ 23.0000,  51.0000,  27.0000,  49.0000],\n",
      "        [ 33.0000,  61.0000,  24.0000,  23.0000],\n",
      "        [ 36.0000, 103.0000,  11.0000,  40.0000]])\n"
     ]
    }
   ],
   "source": [
    "print(dataset[0].shape)\n",
    "print(dataset[0])"
   ]
  },
  {
   "cell_type": "code",
   "execution_count": 4,
   "metadata": {},
   "outputs": [
    {
     "name": "stdout",
     "output_type": "stream",
     "text": [
      "torch.Size([1, 56, 16])\n"
     ]
    }
   ],
   "source": [
    "model = PM10CNN(in_channels=4, out_channels=16)\n",
    "\n",
    "out = model(dataset[0].unsqueeze(0))\n",
    "print(out.shape)"
   ]
  },
  {
   "cell_type": "code",
   "execution_count": 5,
   "metadata": {},
   "outputs": [
    {
     "name": "stdout",
     "output_type": "stream",
     "text": [
      "torch.Size([1, 56, 48])\n"
     ]
    }
   ],
   "source": [
    "model = PM10CNN(in_channels=4, out_channels=16, K=3)\n",
    "\n",
    "out = model(dataset[0].unsqueeze(0))\n",
    "print(out.shape)"
   ]
  },
  {
   "cell_type": "markdown",
   "metadata": {},
   "source": [
    "* 테스트 성공!"
   ]
  }
 ],
 "metadata": {
  "kernelspec": {
   "display_name": "student",
   "language": "python",
   "name": "python3"
  },
  "language_info": {
   "codemirror_mode": {
    "name": "ipython",
    "version": 3
   },
   "file_extension": ".py",
   "mimetype": "text/x-python",
   "name": "python",
   "nbconvert_exporter": "python",
   "pygments_lexer": "ipython3",
   "version": "3.12.7"
  }
 },
 "nbformat": 4,
 "nbformat_minor": 2
}
