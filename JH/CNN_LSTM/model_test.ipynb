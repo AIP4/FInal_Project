{
 "cells": [
  {
   "cell_type": "code",
   "execution_count": 1,
   "metadata": {},
   "outputs": [
    {
     "name": "stderr",
     "output_type": "stream",
     "text": [
      "/home/sangwon/nlplab_leaderboard2/Junho/JH/CNN_LSTM/utils.py:119: FutureWarning: DataFrame.applymap has been deprecated. Use DataFrame.map instead.\n",
      "  df[pm_columns] = df[pm_columns].applymap(lambda x: np.nan if x <= 0 else x)\n"
     ]
    },
    {
     "data": {
      "text/plain": [
       "<dataset.PM10Dataset at 0x7f5d16c015e0>"
      ]
     },
     "execution_count": 1,
     "metadata": {},
     "output_type": "execute_result"
    }
   ],
   "source": [
    "from model import PM10CNN\n",
    "from dataset import PM10Dataset\n",
    "from utils import imputed_china_pm_data\n",
    "\n",
    "df = imputed_china_pm_data()\n",
    "dataset = PM10Dataset(df)\n",
    "\n",
    "dataset"
   ]
  },
  {
   "cell_type": "code",
   "execution_count": 2,
   "metadata": {},
   "outputs": [
    {
     "name": "stdout",
     "output_type": "stream",
     "text": [
      "torch.Size([56, 4])\n",
      "tensor([[195.0000,  54.0000,  14.0000,  49.0000],\n",
      "        [131.0000,  73.0000,   7.0000,  94.0000],\n",
      "        [151.0000,  93.0000,  11.0000,  71.0000],\n",
      "        [171.0000, 104.0000,  73.0000, 120.0000],\n",
      "        [129.5000, 118.0000,  11.0000,  30.0000],\n",
      "        [ 88.0000,  84.0000,  17.0000,  43.0000],\n",
      "        [178.0000,  65.0000,  49.0000,  47.0000],\n",
      "        [113.0000,  38.0000,  29.0000,  33.0000],\n",
      "        [131.0000,  27.0000,  46.0000,  25.5000],\n",
      "        [127.0000,  29.0000,  26.0000,  18.0000],\n",
      "        [146.0000,  27.0000,  23.0000,  40.0000],\n",
      "        [141.0000,  81.0000,  44.0000,  32.0000],\n",
      "        [ 40.0000,  61.0000,  29.0000,  63.0000],\n",
      "        [ 40.0000, 151.0000,  30.0000,  50.0000],\n",
      "        [ 42.0000,  69.0000,  31.0000,  18.0000],\n",
      "        [ 39.0000,  52.0000,  18.0000,  64.0000],\n",
      "        [ 19.0000,  26.0000,  12.0000,  53.0000],\n",
      "        [ 38.0000,  34.0000,  10.0000,  37.0000],\n",
      "        [ 50.0000,  47.0000,  22.0000,  41.0000],\n",
      "        [106.0000,  53.0000,  24.0000,  32.0000],\n",
      "        [ 67.0000,  41.0000,  20.0000,  26.0000],\n",
      "        [ 75.0000,  42.0000,  34.0000,  19.0000],\n",
      "        [ 65.0000,  35.0000,  24.0000,  11.0000],\n",
      "        [ 66.0000,  17.0000,  20.0000,  23.0000],\n",
      "        [ 55.0000,  26.0000,  11.0000,  16.0000],\n",
      "        [ 50.0000,  28.0000,  13.0000,  34.0000],\n",
      "        [ 72.0000,  33.0000,  26.0000,  45.0000],\n",
      "        [ 36.0000,  55.0000,   7.0000,  48.0000],\n",
      "        [ 41.0000,  54.0000,  14.0000,  29.0000],\n",
      "        [ 55.0000,  57.0000,  70.0000,  22.0000],\n",
      "        [ 35.0000,  62.0000,  57.0000,  25.0000],\n",
      "        [ 37.4000,  55.0000,  40.0000,  13.0000],\n",
      "        [ 39.8000,  23.0000,  19.0000,   7.0000],\n",
      "        [ 42.2000,  20.0000,  27.0000,  41.0000],\n",
      "        [ 44.6000,  34.0000,  71.0000,  28.0000],\n",
      "        [ 47.0000,  42.0000,  60.0000,  19.0000],\n",
      "        [ 48.0000,  68.0000,  40.0000,  39.0000],\n",
      "        [ 58.0000,  85.0000,  27.0000,  27.0000],\n",
      "        [ 47.0000,  67.0000,  25.0000,  19.0000],\n",
      "        [ 68.0000,  71.0000,  19.0000,  42.0000],\n",
      "        [ 53.0000,  90.0000,  11.0000,  29.0000],\n",
      "        [ 59.0000, 126.0000,   8.0000,  45.0000],\n",
      "        [ 66.0000, 157.0000, 113.0000,  25.0000],\n",
      "        [ 70.0000, 164.0000,  31.0000,  33.5000],\n",
      "        [ 64.0000, 100.0000,  25.0000,  42.0000],\n",
      "        [ 15.0000,  57.0000,  80.0000,  46.0000],\n",
      "        [ 22.0000,  50.0000, 286.0000,  23.0000],\n",
      "        [ 41.0000,  45.0000,  72.0000,  18.0000],\n",
      "        [ 52.0000, 143.0000,  61.0000,  17.0000],\n",
      "        [ 22.0000,  90.0000,  48.0000,  19.0000],\n",
      "        [ 39.0000,  69.0000, 127.0000,   8.0000],\n",
      "        [ 62.0000, 126.0000,  59.0000,  33.0000],\n",
      "        [ 45.0000,  69.0000,  21.0000,  33.0000],\n",
      "        [ 23.0000,  51.0000,  27.0000,  49.0000],\n",
      "        [ 33.0000,  61.0000,  24.0000,  23.0000],\n",
      "        [ 36.0000, 103.0000,  11.0000,  40.0000]])\n"
     ]
    }
   ],
   "source": [
    "print(dataset[0].shape)\n",
    "print(dataset[0])"
   ]
  },
  {
   "cell_type": "code",
   "execution_count": 4,
   "metadata": {},
   "outputs": [
    {
     "name": "stdout",
     "output_type": "stream",
     "text": [
      "torch.Size([1, 56, 16])\n"
     ]
    }
   ],
   "source": [
    "model = PM10CNN(in_channels=4, out_channels=16)\n",
    "\n",
    "out = model(dataset[0].unsqueeze(0))\n",
    "print(out.shape)"
   ]
  },
  {
   "cell_type": "code",
   "execution_count": 5,
   "metadata": {},
   "outputs": [
    {
     "name": "stdout",
     "output_type": "stream",
     "text": [
      "torch.Size([1, 56, 48])\n"
     ]
    }
   ],
   "source": [
    "model = PM10CNN(in_channels=4, out_channels=16, K=3)\n",
    "\n",
    "out = model(dataset[0].unsqueeze(0))\n",
    "print(out.shape)"
   ]
  },
  {
   "cell_type": "markdown",
   "metadata": {},
   "source": [
    "* 테스트 성공!"
   ]
  },
  {
   "cell_type": "markdown",
   "metadata": {},
   "source": [
    "## Full model test"
   ]
  },
  {
   "cell_type": "code",
   "execution_count": 1,
   "metadata": {},
   "outputs": [],
   "source": [
    "from tqdm import tqdm\n",
    "from utils import set_logger, prepare_data_for_CNN_LSTM\n",
    "from dataset import FinedustCNNLSTMDataset\n",
    "from model import FinedustCNNLSTM\n",
    "from utils import prepare_data\n",
    "from sklearn.model_selection import train_test_split\n",
    "import os\n",
    "import logging\n",
    "from interpolate import simple_interpolate\n",
    "import numpy as np\n",
    "from preprocess import minmax_scaling\n",
    "from train import train, train_cnn_lstm\n",
    "from permutation import compute_cnn_lstm_permutation_importance\n",
    "\n",
    "import torch\n",
    "import torch.optim as optim\n",
    "import torch.nn as nn\n",
    "from torch.utils.data import DataLoader"
   ]
  },
  {
   "cell_type": "code",
   "execution_count": 2,
   "metadata": {},
   "outputs": [],
   "source": [
    "config = {\n",
    "    \"learning_rate\": 1e-4,\n",
    "    \"epochs\": 500,\n",
    "    \"batch_size\": 32,\n",
    "    \"num_layers\": 2,\n",
    "    \"hidden_size\": 128,\n",
    "    \"window_size\": 24,\n",
    "    \"output_size\": 1,\n",
    "    \"dropout_prob\": 0.2,\n",
    "    \"patience\": 10,\n",
    "    \"out_channels\": 16,\n",
    "    \"kernel_size\": 3,\n",
    "    \"K\": 3,\n",
    "}\n",
    "\n",
    "device = torch.device(\"cuda\" if torch.cuda.is_available() else \"cpu\")"
   ]
  },
  {
   "cell_type": "code",
   "execution_count": 3,
   "metadata": {},
   "outputs": [
    {
     "name": "stderr",
     "output_type": "stream",
     "text": [
      "/home/han07301/ai_project/JH/CNN_LSTM/utils.py:119: FutureWarning: DataFrame.applymap has been deprecated. Use DataFrame.map instead.\n",
      "  df[pm_columns] = df[pm_columns].applymap(lambda x: np.nan if x <= 0 else x)\n",
      "/home/han07301/ai_project/JH/CNN_LSTM/interpolate.py:41: FutureWarning: DataFrame.interpolate with object dtype is deprecated and will raise in a future version. Call obj.infer_objects(copy=False) before interpolating instead.\n",
      "  data = data.interpolate(method='linear')\n"
     ]
    }
   ],
   "source": [
    "from dataset import FinedustCNNLSTMDataset\n",
    "from model import FinedustCNNLSTM\n",
    "from utils import prepare_data_for_CNN_LSTM\n",
    "from interpolate import simple_interpolate\n",
    "from preprocess import minmax_scaling\n",
    "\n",
    "region = \"Seoul\"\n",
    "if region == \"Jeonju\":\n",
    "    columns_to_remove = [\"CA_TOT\", \"CA_MID\", \"STN\", \"IR\", \"PA\", \"IX\", \"PS\", \"지점\", \"위도\", \"경도\"]\n",
    "else:\n",
    "    columns_to_remove = [\"CA_TOT\", \"CA_MID\", \"STN\", \"IR\", \"PA\", \"PS\", \"지점\", \"위도\", \"경도\"]\n",
    "\n",
    "df = prepare_data_for_CNN_LSTM(region.lower(), columns_to_remove=columns_to_remove)\n",
    "df = simple_interpolate(df, method=\"linear\")\n",
    "df, scaler = minmax_scaling(df)\n",
    "\n",
    "dataset = FinedustCNNLSTMDataset(df,\n",
    "                                window_size=config[\"window_size\"],\n",
    "                                prediction_length=config[\"output_size\"],\n",
    "                                time_window=3)\n",
    "train_dataset, val_dataset = train_test_split(dataset, test_size=0.2, random_state=42)\n",
    "train_loader = DataLoader(train_dataset, batch_size=config['batch_size'], shuffle=True)\n",
    "val_loader = DataLoader(val_dataset, batch_size=config['batch_size'], shuffle=False)"
   ]
  },
  {
   "cell_type": "code",
   "execution_count": 4,
   "metadata": {},
   "outputs": [],
   "source": [
    "model = FinedustCNNLSTM(config,\n",
    "                        in_channels=len(dataset.pm_columns),\n",
    "                        input_size=len(dataset.feature_columns)).to(device)"
   ]
  },
  {
   "cell_type": "code",
   "execution_count": 5,
   "metadata": {},
   "outputs": [
    {
     "name": "stdout",
     "output_type": "stream",
     "text": [
      "FinedustCNNLSTM(\n",
      "  (cnn): PM10CNN(\n",
      "    (act): GELU(approximate='none')\n",
      "    (conv_list): ModuleList(\n",
      "      (0): Conv1d(4, 16, kernel_size=(3,), stride=(1,), padding=(1,))\n",
      "      (1-2): 2 x Conv1d(16, 16, kernel_size=(3,), stride=(1,), padding=(1,))\n",
      "    )\n",
      "  )\n",
      "  (lstm): FinedustLSTM(\n",
      "    (lstm): LSTMEmbedding(\n",
      "      (lstm): LSTM(60, 128, num_layers=2, batch_first=True, dropout=0.2)\n",
      "    )\n",
      "    (fc1): Linear(in_features=128, out_features=128, bias=True)\n",
      "    (fc2): Linear(in_features=128, out_features=1, bias=True)\n",
      "    (act): GELU(approximate='none')\n",
      "    (dropout): Dropout(p=0.2, inplace=False)\n",
      "  )\n",
      ")\n"
     ]
    }
   ],
   "source": [
    "print(model)"
   ]
  },
  {
   "cell_type": "code",
   "execution_count": 6,
   "metadata": {},
   "outputs": [
    {
     "name": "stdout",
     "output_type": "stream",
     "text": [
      "torch.Size([32, 24, 12]) torch.Size([32, 24, 4]) torch.Size([32, 1])\n",
      "torch.Size([32, 24, 12]) torch.Size([32, 24, 4])\n",
      "torch.Size([32, 24, 48])\n",
      "torch.Size([32, 24, 60])\n",
      "torch.Size([32, 1])\n"
     ]
    }
   ],
   "source": [
    "from model import PM10CNN\n",
    "\n",
    "batch = next(iter(train_loader))\n",
    "w_x, pm_x, y = batch\n",
    "print(w_x.shape, pm_x.shape, y.shape)\n",
    "\n",
    "w_x, pm_x, y = w_x.to(device), pm_x.to(device), y.to(device)\n",
    "out = model(w_x, pm_x)\n",
    "\n",
    "# pm_cnn = PM10CNN(in_channels=4, out_channels=16, kernel_size=3, K=3)\n",
    "# pm_out = pm_cnn(pm_x)\n",
    "# print(pm_out.shape)"
   ]
  },
  {
   "cell_type": "code",
   "execution_count": 10,
   "metadata": {},
   "outputs": [
    {
     "data": {
      "text/plain": [
       "torch.Size([32, 24, 60])"
      ]
     },
     "execution_count": 10,
     "metadata": {},
     "output_type": "execute_result"
    }
   ],
   "source": [
    "torch.cat((w_x, pm_out), dim=-1).shape\n"
   ]
  }
 ],
 "metadata": {
  "kernelspec": {
   "display_name": "student",
   "language": "python",
   "name": "python3"
  },
  "language_info": {
   "codemirror_mode": {
    "name": "ipython",
    "version": 3
   },
   "file_extension": ".py",
   "mimetype": "text/x-python",
   "name": "python",
   "nbconvert_exporter": "python",
   "pygments_lexer": "ipython3",
   "version": "3.13.0"
  }
 },
 "nbformat": 4,
 "nbformat_minor": 2
}
