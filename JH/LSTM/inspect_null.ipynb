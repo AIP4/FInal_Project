{
 "cells": [
  {
   "cell_type": "code",
   "execution_count": null,
   "metadata": {},
   "outputs": [],
   "source": [
    "import pandas as pd\n",
    "import numpy as np\n",
    "from interpolate import *\n",
    "from utils import *\n",
    "from dataset import FinedustDataset\n",
    "from model import FinedustLSTM\n",
    "\n",
    "import torch\n",
    "import torch.optim as optim\n",
    "from torch.utils.data import DataLoader"
   ]
  },
  {
   "cell_type": "code",
   "execution_count": null,
   "metadata": {},
   "outputs": [
    {
     "name": "stdout",
     "output_type": "stream",
     "text": [
      "(40177, 21)\n",
      "Series([], dtype: float64)\n",
      "Index(['TM', 'STN', 'WD', 'WS', 'PA', 'PS', 'TA', 'TD', 'HM', 'PV', 'WW',\n",
      "       'CA_TOT', 'CA_MID', 'CT', 'VS', 'TS', 'IR', 'PM10', '지점', '위도', '경도'],\n",
      "      dtype='object')\n"
     ]
    }
   ],
   "source": [
    "region=\"andong\"\n",
    "kma_path = f\"../../collect_data/filtered/kma/merged/kma_{region}_meta.csv\"\n",
    "df = pd.read_csv(kma_path)\n",
    "print_missing_info(df)"
   ]
  },
  {
   "cell_type": "code",
   "execution_count": null,
   "metadata": {},
   "outputs": [
    {
     "name": "stdout",
     "output_type": "stream",
     "text": [
      "(8954, 107)\n",
      "VV             0.033505\n",
      "WD_yanan       0.022336\n",
      "WS_yanan       0.022336\n",
      "TA_yanan       0.100514\n",
      "TD_yanan       0.245700\n",
      "HM_yanan       0.703596\n",
      "PS_yanan       0.033505\n",
      "PR             0.055841\n",
      "VV_tongliao    0.011168\n",
      "WD_tongliao    0.011168\n",
      "WS_tongliao    0.011168\n",
      "TA_tongliao    0.145187\n",
      "TD_tongliao    0.234532\n",
      "HM_tongliao    0.256868\n",
      "PS_tongliao    0.011168\n",
      "PR_tongliao    0.011168\n",
      "VV_qingdao     0.078177\n",
      "WD_qingdao     0.089346\n",
      "WS_qingdao     0.089346\n",
      "TA_qingdao     0.078177\n",
      "TD_qingdao     0.167523\n",
      "HM_qingdao     0.792942\n",
      "PS_qingdao     0.078177\n",
      "PR_qingdao     0.078177\n",
      "VV_chifeng     0.067009\n",
      "WD_chifeng     0.022336\n",
      "WS_chifeng     0.067009\n",
      "TA_chifeng     0.100514\n",
      "TD_chifeng     0.256868\n",
      "HM_chifeng     0.189859\n",
      "PS_chifeng     0.033505\n",
      "PR_chifeng     0.022336\n",
      "TA_dalian      0.044673\n",
      "TD_dalian      0.189859\n",
      "HM_dalian      0.033505\n",
      "dtype: float64\n",
      "Index(['TM', 'STN', 'WD', 'WS', 'PA', 'PS', 'TA', 'TD', 'HM', 'PV',\n",
      "       ...\n",
      "       'TD_dalian', 'HM_dalian', 'PS_dalian', 'PT_dalian', 'PR_dalian',\n",
      "       'RH_dalian', 'PM10_dalian', 'LON_dalian', 'LAT_dalian', 'diff'],\n",
      "      dtype='object', length=107)\n"
     ]
    }
   ],
   "source": [
    "# 학습을 위해 중국 데이터 append\n",
    "df = concat_china_data(df)\n",
    "df = convert_timesteps(df)\n",
    "\n",
    "print_missing_info(df)"
   ]
  },
  {
   "cell_type": "code",
   "execution_count": null,
   "metadata": {},
   "outputs": [
    {
     "data": {
      "text/plain": [
       "diff\n",
       "3.0       93.500112\n",
       "6.0        5.930310\n",
       "9.0        0.189859\n",
       "12.0       0.167523\n",
       "15.0       0.067009\n",
       "21.0       0.022336\n",
       "75.0       0.011168\n",
       "6744.0     0.011168\n",
       "30.0       0.011168\n",
       "852.0      0.011168\n",
       "33.0       0.011168\n",
       "27.0       0.011168\n",
       "744.0      0.011168\n",
       "24.0       0.011168\n",
       "66.0       0.011168\n",
       "18.0       0.011168\n",
       "3678.0     0.011168\n",
       "Name: proportion, dtype: float64"
      ]
     },
     "metadata": {},
     "output_type": "display_data"
    }
   ],
   "source": [
    "df[\"diff\"].value_counts(normalize=True) * 100"
   ]
  },
  {
   "cell_type": "code",
   "execution_count": null,
   "metadata": {},
   "outputs": [
    {
     "name": "stdout",
     "output_type": "stream",
     "text": [
      "837\n"
     ]
    }
   ],
   "source": [
    "dataset = FinedustDataset(df)\n",
    "print(len(dataset))"
   ]
  },
  {
   "cell_type": "markdown",
   "metadata": {},
   "source": [
    "* 시계열 데이터의 결측치가 6.5%이므로 반드시 interpolate해야 함"
   ]
  },
  {
   "cell_type": "markdown",
   "metadata": {},
   "source": [
    "# 1. Linear interpolation"
   ]
  },
  {
   "cell_type": "code",
   "execution_count": null,
   "metadata": {},
   "outputs": [
    {
     "name": "stderr",
     "output_type": "stream",
     "text": [
      "/home/han07301/ai_project/JH/LSTM/interpolate.py:41: FutureWarning: DataFrame.interpolate with object dtype is deprecated and will raise in a future version. Call obj.infer_objects(copy=False) before interpolating instead.\n",
      "  data = data.interpolate(method='linear')\n"
     ]
    },
    {
     "data": {
      "text/plain": [
       "(9684, 107)"
      ]
     },
     "metadata": {},
     "output_type": "display_data"
    }
   ],
   "source": [
    "df = simple_interpolate(df, method=\"linear\")\n",
    "df.shape"
   ]
  },
  {
   "cell_type": "code",
   "execution_count": null,
   "metadata": {},
   "outputs": [
    {
     "data": {
      "text/plain": [
       "diff\n",
       "3.0       99.958690\n",
       "6744.0     0.010327\n",
       "852.0      0.010327\n",
       "744.0      0.010327\n",
       "3678.0     0.010327\n",
       "Name: proportion, dtype: float64"
      ]
     },
     "metadata": {},
     "output_type": "display_data"
    }
   ],
   "source": [
    "df[\"diff\"].value_counts(normalize=True) * 100"
   ]
  },
  {
   "cell_type": "code",
   "execution_count": null,
   "metadata": {},
   "outputs": [
    {
     "name": "stdout",
     "output_type": "stream",
     "text": [
      "9124\n"
     ]
    }
   ],
   "source": [
    "dataset = FinedustDataset(df)\n",
    "print(len(dataset))"
   ]
  },
  {
   "cell_type": "markdown",
   "metadata": {},
   "source": [
    "* 837 -> 9124\n",
    "* 일주일 단위 (window_size=56, prediction_length=56)일 때, 최대 데이터셋 길이는 9684 - 112 + 1 = 9573"
   ]
  }
 ],
 "metadata": {
  "language_info": {
   "name": "python"
  }
 },
 "nbformat": 4,
 "nbformat_minor": 2
}
