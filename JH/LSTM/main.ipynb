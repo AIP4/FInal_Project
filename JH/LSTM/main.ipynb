{
 "cells": [
  {
   "cell_type": "code",
   "execution_count": 1,
   "metadata": {},
   "outputs": [],
   "source": [
    "from tqdm import tqdm\n",
    "from utils import set_logger\n",
    "from dataset import FinedustDataset\n",
    "from model import FinedustLSTM\n",
    "from utils import prepare_data\n",
    "from sklearn.model_selection import train_test_split\n",
    "import os\n",
    "import logging\n",
    "from interpolate import simple_interpolate\n",
    "import numpy as np\n",
    "from preprocess import minmax_scaling\n",
    "from train import train\n",
    "\n",
    "import torch\n",
    "import torch.optim as optim\n",
    "import torch.nn as nn\n",
    "from torch.utils.data import DataLoader"
   ]
  },
  {
   "cell_type": "code",
   "execution_count": 2,
   "metadata": {},
   "outputs": [],
   "source": [
    "config = {\n",
    "    \"learning_rate\": 1e-3,\n",
    "    \"epochs\": 200,\n",
    "    \"batch_size\": 32,\n",
    "    \"num_layers\": 3,\n",
    "    \"hidden_size\": 64,\n",
    "    \"window_size\": 56,\n",
    "    \"output_size\": 1,\n",
    "    \"dropout\": 0.2,\n",
    "    \"patience\": 10,\n",
    "}\n",
    "\n",
    "device = torch.device(\"cuda\" if torch.cuda.is_available() else \"cpu\")"
   ]
  },
  {
   "cell_type": "code",
   "execution_count": null,
   "metadata": {},
   "outputs": [],
   "source": [
    "columns_to_remove = [\"CA_TOT\", \"CA_MID\", \"STN\", \"IR\", \"지점\", \"위도\", \"경도\"]\n",
    "\n",
    "region = \"Andong\"\n",
    "\n",
    "df = prepare_data(region.lower(), columns_to_remove)\n",
    "df = simple_interpolate(df, method=\"linear\")\n",
    "df, scaler = minmax_scaling(df)\n",
    "\n",
    "dataset = FinedustDataset(df,\n",
    "                          window_size=config[\"window_size\"],\n",
    "                          prediction_length=config[\"output_size\"],\n",
    "                          time_window=1)\n",
    "train_dataset, val_dataset = train_test_split(dataset, test_size=0.2, random_state=42)\n",
    "train_loader = DataLoader(train_dataset, batch_size=config['batch_size'], shuffle=True)\n",
    "val_loader = DataLoader(val_dataset, batch_size=config['batch_size'], shuffle=False)"
   ]
  },
  {
   "cell_type": "markdown",
   "metadata": {},
   "source": [
    "# LSTM"
   ]
  },
  {
   "cell_type": "code",
   "execution_count": null,
   "metadata": {},
   "outputs": [],
   "source": [
    "total_preds, losses = train(train_dataset,\n",
    "                            val_dataset,\n",
    "                            dataset.feature_columns,\n",
    "                            \"Andong\", \"LSTM\", config,\n",
    "                            device)\n",
    "# train(\"Gwangju\", \"LSTM\", config, device, interpolate_fn=simple_interpolate, method=\"linear\")\n",
    "# train(\"Seoul\", \"LSTM\", config, device, interpolate_fn=simple_interpolate, method=\"linear\")\n",
    "# train(\"Jeonju\", \"LSTM\", config, device, interpolate_fn=simple_interpolate, method=\"linear\")\n",
    "# train(\"Daegu\", \"LSTM\", config, device, interpolate_fn=simple_interpolate, method=\"linear\")"
   ]
  },
  {
   "cell_type": "markdown",
   "metadata": {},
   "source": [
    "# MLP"
   ]
  },
  {
   "cell_type": "code",
   "execution_count": null,
   "metadata": {},
   "outputs": [],
   "source": []
  }
 ],
 "metadata": {
  "kernelspec": {
   "display_name": "practice",
   "language": "python",
   "name": "python3"
  },
  "language_info": {
   "codemirror_mode": {
    "name": "ipython",
    "version": 3
   },
   "file_extension": ".py",
   "mimetype": "text/x-python",
   "name": "python",
   "nbconvert_exporter": "python",
   "pygments_lexer": "ipython3",
   "version": "3.13.0"
  }
 },
 "nbformat": 4,
 "nbformat_minor": 2
}
