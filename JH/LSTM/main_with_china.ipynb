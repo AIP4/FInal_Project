{
 "cells": [
  {
   "cell_type": "code",
   "execution_count": 2,
   "metadata": {},
   "outputs": [],
   "source": [
    "from tqdm import tqdm\n",
    "from utils import set_logger\n",
    "from dataset import FinedustDataset\n",
    "from model import FinedustLSTM\n",
    "from utils import prepare_data\n",
    "from sklearn.model_selection import train_test_split\n",
    "import os\n",
    "import logging\n",
    "from interpolate import simple_interpolate\n",
    "import numpy as np\n",
    "from preprocess import minmax_scaling\n",
    "from train import train\n",
    "from permutation import compute_permutation_importance\n",
    "\n",
    "import torch\n",
    "import torch.optim as optim\n",
    "import torch.nn as nn\n",
    "from torch.utils.data import DataLoader"
   ]
  },
  {
   "cell_type": "markdown",
   "metadata": {},
   "source": [
    "* 서쪽 지방 추가 task\n",
    "* 가설: 서부 지역은 중국발 미세먼지 영향을 크게 받을 것이다."
   ]
  },
  {
   "cell_type": "code",
   "execution_count": 4,
   "metadata": {},
   "outputs": [],
   "source": [
    "regions = [\"Seoul\", \"Jeonju\", \"Gwangju\"]"
   ]
  },
  {
   "cell_type": "code",
   "execution_count": 7,
   "metadata": {},
   "outputs": [
    {
     "data": {
      "text/plain": [
       "device(type='cuda')"
      ]
     },
     "execution_count": 7,
     "metadata": {},
     "output_type": "execute_result"
    }
   ],
   "source": [
    "config = {\n",
    "    \"learning_rate\": 1e-4,\n",
    "    \"epochs\": 500,\n",
    "    \"batch_size\": 32,\n",
    "    \"num_layers\": 2,\n",
    "    \"hidden_size\": 128,\n",
    "    \"window_size\": 24,\n",
    "    \"output_size\": 1,\n",
    "    \"dropout\": 0.2,\n",
    "    \"patience\": 10,\n",
    "}\n",
    "\n",
    "device = torch.device(\"cuda\" if torch.cuda.is_available() else \"cpu\")\n",
    "device"
   ]
  },
  {
   "cell_type": "code",
   "execution_count": null,
   "metadata": {},
   "outputs": [],
   "source": [
    "for region in regions:\n",
    "  if region == \"Jeonju\":\n",
    "    columns_to_remove = [\"CA_TOT\", \"CA_MID\", \"STN\", \"IR\", \"PA\", \"IX\", \"PS\", \"지점\", \"위도\", \"경도\"]\n",
    "  else:\n",
    "    columns_to_remove = [\"CA_TOT\", \"CA_MID\", \"STN\", \"IR\", \"PA\", \"PS\", \"지점\", \"위도\", \"경도\"]\n",
    "  df = prepare_data(region.lower(), columns_to_remove, include_china=True)\n",
    "  df = simple_interpolate(df, method=\"linear\")\n",
    "  df, scaler = minmax_scaling(df)\n",
    "\n",
    "  dataset = FinedustDataset(df,\n",
    "                            window_size=config[\"window_size\"],\n",
    "                            prediction_length=config[\"output_size\"],\n",
    "                            time_window=3)\n",
    "  train_dataset, val_dataset = train_test_split(dataset, test_size=0.2, random_state=42)\n",
    "  train_loader = DataLoader(train_dataset, batch_size=config['batch_size'], shuffle=True)\n",
    "  val_loader = DataLoader(val_dataset, batch_size=config['batch_size'], shuffle=False)\n",
    "\n",
    "  model = FinedustLSTM(input_size=len(dataset.feature_columns),\n",
    "                              hidden_size=config['hidden_size'],\n",
    "                              num_layers=config['num_layers'],\n",
    "                              output_size=config['output_size'],\n",
    "                              dropout_prob=config['dropout']).to(device)\n",
    "\n",
    "  total_preds, losses = train(model,\n",
    "                              train_dataset,\n",
    "                              val_dataset,\n",
    "                              dataset.feature_columns,\n",
    "                              region, \"LSTM\", config,\n",
    "                              device)\n",
    "  pred_y = np.concatenate(total_preds, axis=0)\n",
    "  val_y = np.concatenate([y for x, y in val_dataset])"
   ]
  }
 ],
 "metadata": {
  "kernelspec": {
   "display_name": "student",
   "language": "python",
   "name": "python3"
  },
  "language_info": {
   "codemirror_mode": {
    "name": "ipython",
    "version": 3
   },
   "file_extension": ".py",
   "mimetype": "text/x-python",
   "name": "python",
   "nbconvert_exporter": "python",
   "pygments_lexer": "ipython3",
   "version": "3.12.7"
  }
 },
 "nbformat": 4,
 "nbformat_minor": 2
}
