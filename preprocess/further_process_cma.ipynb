{
 "cells": [
  {
   "cell_type": "code",
   "execution_count": 2,
   "metadata": {},
   "outputs": [],
   "source": [
    "import pandas as pd\n",
    "\n",
    "\n",
    "CHN_BASE_DIR = \"../collect_data/filtered/cma\"\n",
    "\n",
    "years = [\"2018\", \"2019\", \"2020\", \"2021\", \"2022\"]\n",
    "locations = [\"yanan.csv\", \"tongliao.csv\", \"qingdao.csv\", \"chifeng.csv\", \"dalian.csv\"]"
   ]
  },
  {
   "cell_type": "markdown",
   "metadata": {},
   "source": [
    "[Feature Reductions]\n",
    "\n",
    "* RH: 전부 0\n",
    "* IW: 풍속단위를 나타낸 것이기 때문에 전부 1"
   ]
  },
  {
   "cell_type": "code",
   "execution_count": null,
   "metadata": {},
   "outputs": [],
   "source": [
    "for year in years:\n",
    "    for lc in locations:\n",
    "        df = pd.read_csv(f\"{CHN_BASE_DIR}/{year}/{lc}\")\n"
   ]
  }
 ],
 "metadata": {
  "kernelspec": {
   "display_name": "practice",
   "language": "python",
   "name": "python3"
  },
  "language_info": {
   "codemirror_mode": {
    "name": "ipython",
    "version": 3
   },
   "file_extension": ".py",
   "mimetype": "text/x-python",
   "name": "python",
   "nbconvert_exporter": "python",
   "pygments_lexer": "ipython3",
   "version": "3.13.0"
  }
 },
 "nbformat": 4,
 "nbformat_minor": 2
}
